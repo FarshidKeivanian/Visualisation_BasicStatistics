{
 "cells": [
  {
   "cell_type": "markdown",
   "metadata": {},
   "source": [
    "### Tutorial on Data Analysis using Python\n",
    "\n",
    "### 1. Visualisation and Basic Statistics:"
   ]
  },
  {
   "cell_type": "code",
   "execution_count": 13,
   "metadata": {},
   "outputs": [],
   "source": [
    "import pandas as pd\n",
    "import numpy as np\n",
    "import matplotlib.pyplot as plt"
   ]
  },
  {
   "cell_type": "code",
   "execution_count": 43,
   "metadata": {
    "scrolled": true
   },
   "outputs": [],
   "source": [
    "# use pd.read.csv function to load the data in the file pokemon.csv as a dataframe\n",
    "df_pokemon = pd.read_csv(\"pokemon.csv\", na_values='?')"
   ]
  },
  {
   "cell_type": "code",
   "execution_count": 44,
   "metadata": {},
   "outputs": [
    {
     "name": "stdout",
     "output_type": "stream",
     "text": [
      "There are 800 rows and 13 columns in the pokemon dataset\n",
      "   #                   Name  Type1   Type2  Total  HP  Attack  Defense  SpAtk  \\\n",
      "0  1              Bulbasaur  Grass  Poison    318  45      49       49     65   \n",
      "1  2                Ivysaur  Grass  Poison    405  60      62       63     80   \n",
      "2  3               Venusaur  Grass  Poison    525  80      82       83    100   \n",
      "3  3  VenusaurMega Venusaur  Grass  Poison    625  80     100      123    122   \n",
      "\n",
      "   SpDef  Speed  Generation     Legendary  \n",
      "0     65     45           1  NotLegendary  \n",
      "1     80     60           1  NotLegendary  \n",
      "2    100     80           1  NotLegendary  \n",
      "3    120     80           1  NotLegendary  \n"
     ]
    }
   ],
   "source": [
    "number_rows = len(df_pokemon)\n",
    "number_columns = len(df_pokemon.columns)\n",
    "print('There are {} rows and {} columns in the pokemon dataset'.format(number_rows, number_columns))\n",
    "print(df_pokemon.head(4))\n",
    "\n",
    "# Display the first four rows of the dataframe \"df_pokemon\" using the head command to get an idea about the \"pokemon\" dataset\n",
    "#print(df_pokemon.head(4)\n",
    "      \n",
    "# Get the row count of the dataframe (df_pokemon) \n",
    "#print(len(df_pokemon))\n",
    "#number_rows = len(df_pokemon)\n",
    "\n",
    "# Get the no of columns of the dataframe (df_pokemon)\n",
    "#print(len(df_pokemon.columns))\n",
    "#number_columns = len(df_pokemon.columns)     \n"
   ]
  },
  {
   "cell_type": "code",
   "execution_count": 16,
   "metadata": {},
   "outputs": [
    {
     "name": "stdout",
     "output_type": "stream",
     "text": [
      "<class 'pandas.core.frame.DataFrame'>\n",
      "RangeIndex: 800 entries, 0 to 799\n",
      "Data columns (total 13 columns):\n",
      " #   Column      Non-Null Count  Dtype \n",
      "---  ------      --------------  ----- \n",
      " 0   #           800 non-null    int64 \n",
      " 1   Name        800 non-null    object\n",
      " 2   Type1       800 non-null    object\n",
      " 3   Type2       414 non-null    object\n",
      " 4   Total       800 non-null    int64 \n",
      " 5   HP          800 non-null    int64 \n",
      " 6   Attack      800 non-null    int64 \n",
      " 7   Defense     800 non-null    int64 \n",
      " 8   SpAtk       800 non-null    int64 \n",
      " 9   SpDef       800 non-null    int64 \n",
      " 10  Speed       800 non-null    int64 \n",
      " 11  Generation  800 non-null    int64 \n",
      " 12  Legendary   800 non-null    object\n",
      "dtypes: int64(9), object(4)\n",
      "memory usage: 81.4+ KB\n"
     ]
    }
   ],
   "source": [
    "df_pokemon.info()"
   ]
  },
  {
   "cell_type": "code",
   "execution_count": 47,
   "metadata": {},
   "outputs": [
    {
     "name": "stdout",
     "output_type": "stream",
     "text": [
      "         #   Name  Type1  Type2  Total     HP  Attack  Defense  SpAtk  SpDef  \\\n",
      "0    False  False  False  False  False  False   False    False  False  False   \n",
      "1    False  False  False  False  False  False   False    False  False  False   \n",
      "2    False  False  False  False  False  False   False    False  False  False   \n",
      "3    False  False  False  False  False  False   False    False  False  False   \n",
      "4    False  False  False   True  False  False   False    False  False  False   \n",
      "..     ...    ...    ...    ...    ...    ...     ...      ...    ...    ...   \n",
      "795  False  False  False  False  False  False   False    False  False  False   \n",
      "796  False  False  False  False  False  False   False    False  False  False   \n",
      "797  False  False  False  False  False  False   False    False  False  False   \n",
      "798  False  False  False  False  False  False   False    False  False  False   \n",
      "799  False  False  False  False  False  False   False    False  False  False   \n",
      "\n",
      "     Speed  Generation  Legendary  \n",
      "0    False       False      False  \n",
      "1    False       False      False  \n",
      "2    False       False      False  \n",
      "3    False       False      False  \n",
      "4    False       False      False  \n",
      "..     ...         ...        ...  \n",
      "795  False       False      False  \n",
      "796  False       False      False  \n",
      "797  False       False      False  \n",
      "798  False       False      False  \n",
      "799  False       False      False  \n",
      "\n",
      "[800 rows x 13 columns]\n",
      "There are 414 complete observations in the new pokemon dataset\n",
      "0      Poison\n",
      "1      Poison\n",
      "2      Poison\n",
      "3      Poison\n",
      "6      Flying\n",
      "        ...  \n",
      "795     Fairy\n",
      "796     Fairy\n",
      "797     Ghost\n",
      "798      Dark\n",
      "799     Water\n",
      "Name: Type2, Length: 414, dtype: object\n"
     ]
    }
   ],
   "source": [
    "# To Detect the null\n",
    "#print(pd.isnull(df_pokemon))\n",
    "\n",
    "print(df_pokemon.isnull())\n",
    "\n",
    "\n",
    "#pd.isnull(np.nan)\n",
    "# To exclude all observations affected by missing data\n",
    "df_pokemon_co = df_pokemon.dropna()\n",
    "df_pokemon_co_rows = len(df_pokemon_co)\n",
    "\n",
    "print(\"There are {} complete observations in the new pokemon dataset\".format(df_pokemon_co_rows))\n",
    "print(df_pokemon_co.Type2)"
   ]
  },
  {
   "cell_type": "markdown",
   "metadata": {},
   "source": [
    "### Basic Statistics"
   ]
  },
  {
   "cell_type": "code",
   "execution_count": 50,
   "metadata": {},
   "outputs": [
    {
     "name": "stdout",
     "output_type": "stream",
     "text": [
      "The difference in mean HP between legendary and not-legendary pokemon is 28.53\n"
     ]
    }
   ],
   "source": [
    "MeanHP_legendary = np.mean(df_pokemon_co[df_pokemon_co['Legendary']=='Legendary']['HP'])\n",
    "MeanHP_Notlegendary = np.mean(df_pokemon_co[df_pokemon_co['Legendary']=='NotLegendary']['HP'])\n",
    "diff = round(MeanHP_legendary - MeanHP_Notlegendary, 2)\n",
    "print('The difference in mean HP between legendary and not-legendary pokemon is {}'.format(diff))"
   ]
  },
  {
   "cell_type": "code",
   "execution_count": 53,
   "metadata": {},
   "outputs": [
    {
     "name": "stdout",
     "output_type": "stream",
     "text": [
      "1024.83 and 32.01 are the variance and the standard deviation of Attack for Generation 1 based on df_pokemon_co, respectively.\n"
     ]
    }
   ],
   "source": [
    "variance = round(np.var(df_pokemon_co[df_pokemon_co['Generation']==1]['Attack']),2)\n",
    "standarddev = round(np.std(df_pokemon_co[df_pokemon_co['Generation']==1]['Attack']),2)\n",
    "print('{} and {} are the variance and the standard deviation of Attack for Generation 1 based on df_pokemon_co, respectively.'.format(variance, standarddev))\n",
    "#print('{:.2f} and {:.2f} are the variance and the standard deviation of Attack for Generation 1 based on df_pokemon_co, respectively.'.format(variance, standarddev))"
   ]
  },
  {
   "cell_type": "code",
   "execution_count": 9,
   "metadata": {
    "scrolled": false
   },
   "outputs": [
    {
     "name": "stdout",
     "output_type": "stream",
     "text": [
      "3.6247541336448013\n"
     ]
    }
   ],
   "source": [
    "stderr = lambda x: np.sqrt(np.var(x)/x.shape[0])\n",
    "print(stderr(df_pokemon_co[df_pokemon_co['Generation']==1]['Attack']))\n",
    "\n",
    "# TODO: Add your solution (Python code) in this cell."
   ]
  },
  {
   "cell_type": "markdown",
   "metadata": {},
   "source": [
    "Standard error and standard deviation are both measures of variability. The standard deviation is variability within a single sample, while the standard error estimates the variability across multiple samples of a population."
   ]
  },
  {
   "cell_type": "markdown",
   "metadata": {},
   "source": [
    "## Visualisation"
   ]
  },
  {
   "cell_type": "code",
   "execution_count": 56,
   "metadata": {
    "scrolled": true
   },
   "outputs": [
    {
     "data": {
      "image/png": "[encoded data removed]",
      "text/plain": [
       "<Figure size 360x360 with 1 Axes>"
      ]
     },
     "metadata": {
      "needs_background": "light"
     },
     "output_type": "display_data"
    }
   ],
   "source": [
    "plotlabels = ['Grass', 'Fire', 'Normal', 'Water', 'Flying']\n",
    "plotdata = [df_pokemon_co[df_pokemon_co['Type1']==label]['Total'] for label in plotlabels]\n",
    "plt.figure(figsize=(5, 5))\n",
    "plt.boxplot(plotdata, labels=plotlabels, vert=False, widths=0.5, zorder=3) # Box plot\n",
    "plt.xlabel('Total')\n",
    "plt.ylabel('Type1')\n",
    "plt.title('Total sum of all stats values by Type1')\n",
    "plt.grid(zorder=0)\n",
    "plt.show()"
   ]
  },
  {
   "cell_type": "code",
   "execution_count": 41,
   "metadata": {},
   "outputs": [
    {
     "data": {
      "image/png": "[encoded data removed]",
      "text/plain": [
       "<Figure size 360x360 with 1 Axes>"
      ]
     },
     "metadata": {
      "needs_background": "light"
     },
     "output_type": "display_data"
    }
   ],
   "source": [
    "plotlabels = ['Legendary', 'NotLegendary']\n",
    "plotdata = [df_pokemon_co[df_pokemon_co['Legendary']==label][['Attack','Defense']] for label in plotlabels]\n",
    "colors = ['red', 'blue']\n",
    "plt.figure(figsize=(5, 5))\n",
    "for count, datavalue in enumerate(plotdata):\n",
    "    plt.scatter(datavalue['Attack'],datavalue['Defense'],color=colors[count],label=\"{} Legendary\".format(plotlabels[count]))\n",
    "plt.xlabel('Attack')\n",
    "plt.ylabel('Defense')\n",
    "plt.title('Scatter-plot of Defense vs. Attack')\n",
    "plt.legend()\n",
    "plt.grid(zorder=0)\n",
    "plt.show()"
   ]
  }
 ],
 "metadata": {
  "kernelspec": {
   "display_name": "Python 3 (ipykernel)",
   "language": "python",
   "name": "python3"
  },
  "language_info": {
   "codemirror_mode": {
    "name": "ipython",
    "version": 3
   },
   "file_extension": ".py",
   "mimetype": "text/x-python",
   "name": "python",
   "nbconvert_exporter": "python",
   "pygments_lexer": "ipython3",
   "version": "3.9.12"
  }
 },
 "nbformat": 4,
 "nbformat_minor": 4
}
